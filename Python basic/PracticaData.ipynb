{
  "cells": [
    {
      "cell_type": "code",
      "execution_count": 1,
      "metadata": {
        "colab": {},
        "colab_type": "code",
        "id": "QMSl8GcfrU8R"
      },
      "outputs": [],
      "source": [
        "import pandas as pd"
      ]
    },
    {
      "cell_type": "code",
      "execution_count": 2,
      "metadata": {
        "colab": {},
        "colab_type": "code",
        "id": "2u7mCJ4nrYVk"
      },
      "outputs": [
        {
          "name": "stderr",
          "output_type": "stream",
          "text": [
            "Fontconfig warning: ignoring UTF-8: not a valid region tag\n"
          ]
        }
      ],
      "source": [
        "%matplotlib inline\n",
        "from copy import deepcopy\n",
        "import numpy as np\n",
        "import pandas as pd\n",
        "from matplotlib import pyplot as plt\n",
        "plt.rcParams['figure.figsize'] = (16, 9)\n",
        "plt.style.use('ggplot')"
      ]
    },
    {
      "cell_type": "code",
      "execution_count": 7,
      "metadata": {
        "colab": {
          "base_uri": "https://localhost:8080/",
          "height": 204
        },
        "colab_type": "code",
        "id": "qc2Xw6obsAWh",
        "outputId": "10e3dff6-aaa3-4520-9fcd-8c2eb55bca22"
      },
      "outputs": [
        {
          "name": "stdout",
          "output_type": "stream",
          "text": [
            "--2023-03-15 19:01:37--  https://www.datos.gov.co/api/views/75fz-q98y/rows.csv?accessType=DOWNLOAD&bom=true&format=true\n",
            "Resolving www.datos.gov.co (www.datos.gov.co)... 52.206.140.199, 52.206.68.26, 52.206.140.205\n",
            "Connecting to www.datos.gov.co (www.datos.gov.co)|52.206.140.199|:443... connected.\n",
            "HTTP request sent, awaiting response... 200 OK\n",
            "Length: unspecified [text/csv]\n",
            "Saving to: 'data.csv'\n",
            "\n",
            "data.csv                [   <=>              ]  32.44M  3.65MB/s    in 14s     \n",
            "\n",
            "2023-03-15 19:01:52 (2.29 MB/s) - 'data.csv' saved [34021154]\n",
            "\n"
          ]
        }
      ],
      "source": [
        "!wget -O  data.csv 'https://www.datos.gov.co/api/views/75fz-q98y/rows.csv?accessType=DOWNLOAD&bom=true&format=true'"
      ]
    },
    {
      "cell_type": "code",
      "execution_count": 8,
      "metadata": {
        "colab": {
          "base_uri": "https://localhost:8080/",
          "height": 71
        },
        "colab_type": "code",
        "id": "XAQsW-LGsC6G",
        "outputId": "648ad962-707f-4bd2-b2c3-f947c1a8b48d"
      },
      "outputs": [
        {
          "name": "stderr",
          "output_type": "stream",
          "text": [
            "/var/folders/44/1tt4k8ts7t971j15mrfb2mq40000gn/T/ipykernel_85860/1507164070.py:1: DtypeWarning: Columns (3,4) have mixed types. Specify dtype option on import or set low_memory=False.\n",
            "  df = pd.read_csv('data.csv')\n"
          ]
        }
      ],
      "source": [
        "df = pd.read_csv('data.csv')"
      ]
    },
    {
      "cell_type": "code",
      "execution_count": 9,
      "metadata": {
        "colab": {
          "base_uri": "https://localhost:8080/",
          "height": 326
        },
        "colab_type": "code",
        "id": "BWs4jEtNsH-n",
        "outputId": "3f4d477d-0ebd-4111-c107-068d47d2ecca"
      },
      "outputs": [
        {
          "data": {
            "text/html": [
              "<div>\n",
              "<style scoped>\n",
              "    .dataframe tbody tr th:only-of-type {\n",
              "        vertical-align: middle;\n",
              "    }\n",
              "\n",
              "    .dataframe tbody tr th {\n",
              "        vertical-align: top;\n",
              "    }\n",
              "\n",
              "    .dataframe thead th {\n",
              "        text-align: right;\n",
              "    }\n",
              "</style>\n",
              "<table border=\"1\" class=\"dataframe\">\n",
              "  <thead>\n",
              "    <tr style=\"text-align: right;\">\n",
              "      <th></th>\n",
              "      <th>ORDEN</th>\n",
              "      <th>ARMAS_MEDIOS</th>\n",
              "      <th>BARRIOS_HECHO</th>\n",
              "      <th>LATITUD</th>\n",
              "      <th>LONGITUD</th>\n",
              "      <th>ZONA</th>\n",
              "      <th>NOM_COMUNA</th>\n",
              "      <th>ANO</th>\n",
              "      <th>MES</th>\n",
              "      <th>DIA</th>\n",
              "      <th>DIA_SEMANA</th>\n",
              "      <th>DESCRIPCION_CONDUCTA</th>\n",
              "      <th>CONDUCTA</th>\n",
              "      <th>CLASIFICACIONES DELITO</th>\n",
              "      <th>EDAD</th>\n",
              "      <th>CURSO_DE_VIDA</th>\n",
              "      <th>ESTADO_CIVIL_PERSONA</th>\n",
              "      <th>GENERO</th>\n",
              "      <th>MOVIL_AGRESOR</th>\n",
              "      <th>MOVIL_VICTIMA</th>\n",
              "    </tr>\n",
              "  </thead>\n",
              "  <tbody>\n",
              "    <tr>\n",
              "      <th>0</th>\n",
              "      <td>1</td>\n",
              "      <td>ARMA BLANCA / CORTOPUNZANTE</td>\n",
              "      <td>BUENOS AIRES</td>\n",
              "      <td>7.170557</td>\n",
              "      <td>-73.135108</td>\n",
              "      <td>URBANA</td>\n",
              "      <td>14. Morrorico</td>\n",
              "      <td>2010</td>\n",
              "      <td>01. Enero</td>\n",
              "      <td>1</td>\n",
              "      <td>05. Viernes</td>\n",
              "      <td>ARTÍCULO 111. LESIONES PERSONALES</td>\n",
              "      <td>LESIONES PERSONALES</td>\n",
              "      <td>Lesiones no fatales</td>\n",
              "      <td>30</td>\n",
              "      <td>05. Adultez</td>\n",
              "      <td>UNION LIBRE</td>\n",
              "      <td>MASCULINO</td>\n",
              "      <td>A PIE</td>\n",
              "      <td>A PIE</td>\n",
              "    </tr>\n",
              "    <tr>\n",
              "      <th>1</th>\n",
              "      <td>2</td>\n",
              "      <td>ARMA BLANCA / CORTOPUNZANTE</td>\n",
              "      <td>CAMPO HERMOSO</td>\n",
              "      <td>7.120645</td>\n",
              "      <td>-73.12605</td>\n",
              "      <td>URBANA</td>\n",
              "      <td>05. García Rovira</td>\n",
              "      <td>2010</td>\n",
              "      <td>01. Enero</td>\n",
              "      <td>1</td>\n",
              "      <td>05. Viernes</td>\n",
              "      <td>ARTÍCULO 111. LESIONES PERSONALES</td>\n",
              "      <td>LESIONES PERSONALES</td>\n",
              "      <td>Lesiones no fatales</td>\n",
              "      <td>21</td>\n",
              "      <td>04. Jovenes</td>\n",
              "      <td>SOLTERO</td>\n",
              "      <td>MASCULINO</td>\n",
              "      <td>A PIE</td>\n",
              "      <td>A PIE</td>\n",
              "    </tr>\n",
              "    <tr>\n",
              "      <th>2</th>\n",
              "      <td>3</td>\n",
              "      <td>ARMA BLANCA / CORTOPUNZANTE</td>\n",
              "      <td>CAMPO HERMOSO</td>\n",
              "      <td>7.120645</td>\n",
              "      <td>-73.12605</td>\n",
              "      <td>URBANA</td>\n",
              "      <td>05. García Rovira</td>\n",
              "      <td>2010</td>\n",
              "      <td>01. Enero</td>\n",
              "      <td>1</td>\n",
              "      <td>05. Viernes</td>\n",
              "      <td>ARTÍCULO 111. LESIONES PERSONALES</td>\n",
              "      <td>LESIONES PERSONALES</td>\n",
              "      <td>Lesiones no fatales</td>\n",
              "      <td>23</td>\n",
              "      <td>04. Jovenes</td>\n",
              "      <td>SOLTERO</td>\n",
              "      <td>MASCULINO</td>\n",
              "      <td>A PIE</td>\n",
              "      <td>A PIE</td>\n",
              "    </tr>\n",
              "    <tr>\n",
              "      <th>3</th>\n",
              "      <td>4</td>\n",
              "      <td>ARMA BLANCA / CORTOPUNZANTE</td>\n",
              "      <td>COMUNEROS</td>\n",
              "      <td>7.151359</td>\n",
              "      <td>-73.145705</td>\n",
              "      <td>URBANA</td>\n",
              "      <td>03. San Francisco</td>\n",
              "      <td>2010</td>\n",
              "      <td>01. Enero</td>\n",
              "      <td>1</td>\n",
              "      <td>05. Viernes</td>\n",
              "      <td>ARTÍCULO 111. LESIONES PERSONALES</td>\n",
              "      <td>LESIONES PERSONALES</td>\n",
              "      <td>Lesiones no fatales</td>\n",
              "      <td>36</td>\n",
              "      <td>05. Adultez</td>\n",
              "      <td>CASADO</td>\n",
              "      <td>MASCULINO</td>\n",
              "      <td>A PIE</td>\n",
              "      <td>A PIE</td>\n",
              "    </tr>\n",
              "    <tr>\n",
              "      <th>4</th>\n",
              "      <td>5</td>\n",
              "      <td>ARMA BLANCA / CORTOPUNZANTE</td>\n",
              "      <td>GIRARDOT</td>\n",
              "      <td>7.170557</td>\n",
              "      <td>-73.135108</td>\n",
              "      <td>URBANA</td>\n",
              "      <td>04. Occidental</td>\n",
              "      <td>2010</td>\n",
              "      <td>01. Enero</td>\n",
              "      <td>1</td>\n",
              "      <td>05. Viernes</td>\n",
              "      <td>ARTÍCULO 111. LESIONES PERSONALES</td>\n",
              "      <td>LESIONES PERSONALES</td>\n",
              "      <td>Lesiones no fatales</td>\n",
              "      <td>20</td>\n",
              "      <td>04. Jovenes</td>\n",
              "      <td>UNION LIBRE</td>\n",
              "      <td>MASCULINO</td>\n",
              "      <td>A PIE</td>\n",
              "      <td>A PIE</td>\n",
              "    </tr>\n",
              "  </tbody>\n",
              "</table>\n",
              "</div>"
            ],
            "text/plain": [
              "   ORDEN                 ARMAS_MEDIOS  BARRIOS_HECHO   LATITUD   LONGITUD  \\\n",
              "0      1  ARMA BLANCA / CORTOPUNZANTE   BUENOS AIRES  7.170557 -73.135108   \n",
              "1      2  ARMA BLANCA / CORTOPUNZANTE  CAMPO HERMOSO  7.120645  -73.12605   \n",
              "2      3  ARMA BLANCA / CORTOPUNZANTE  CAMPO HERMOSO  7.120645  -73.12605   \n",
              "3      4  ARMA BLANCA / CORTOPUNZANTE      COMUNEROS  7.151359 -73.145705   \n",
              "4      5  ARMA BLANCA / CORTOPUNZANTE       GIRARDOT  7.170557 -73.135108   \n",
              "\n",
              "     ZONA         NOM_COMUNA   ANO        MES  DIA   DIA_SEMANA  \\\n",
              "0  URBANA      14. Morrorico  2010  01. Enero    1  05. Viernes   \n",
              "1  URBANA  05. García Rovira  2010  01. Enero    1  05. Viernes   \n",
              "2  URBANA  05. García Rovira  2010  01. Enero    1  05. Viernes   \n",
              "3  URBANA  03. San Francisco  2010  01. Enero    1  05. Viernes   \n",
              "4  URBANA     04. Occidental  2010  01. Enero    1  05. Viernes   \n",
              "\n",
              "                DESCRIPCION_CONDUCTA             CONDUCTA  \\\n",
              "0  ARTÍCULO 111. LESIONES PERSONALES  LESIONES PERSONALES   \n",
              "1  ARTÍCULO 111. LESIONES PERSONALES  LESIONES PERSONALES   \n",
              "2  ARTÍCULO 111. LESIONES PERSONALES  LESIONES PERSONALES   \n",
              "3  ARTÍCULO 111. LESIONES PERSONALES  LESIONES PERSONALES   \n",
              "4  ARTÍCULO 111. LESIONES PERSONALES  LESIONES PERSONALES   \n",
              "\n",
              "  CLASIFICACIONES DELITO EDAD CURSO_DE_VIDA ESTADO_CIVIL_PERSONA     GENERO  \\\n",
              "0    Lesiones no fatales   30   05. Adultez          UNION LIBRE  MASCULINO   \n",
              "1    Lesiones no fatales   21   04. Jovenes              SOLTERO  MASCULINO   \n",
              "2    Lesiones no fatales   23   04. Jovenes              SOLTERO  MASCULINO   \n",
              "3    Lesiones no fatales   36   05. Adultez               CASADO  MASCULINO   \n",
              "4    Lesiones no fatales   20   04. Jovenes          UNION LIBRE  MASCULINO   \n",
              "\n",
              "  MOVIL_AGRESOR MOVIL_VICTIMA  \n",
              "0         A PIE         A PIE  \n",
              "1         A PIE         A PIE  \n",
              "2         A PIE         A PIE  \n",
              "3         A PIE         A PIE  \n",
              "4         A PIE         A PIE  "
            ]
          },
          "execution_count": 9,
          "metadata": {},
          "output_type": "execute_result"
        }
      ],
      "source": [
        "df.head()"
      ]
    },
    {
      "cell_type": "code",
      "execution_count": 10,
      "metadata": {
        "colab": {
          "base_uri": "https://localhost:8080/",
          "height": 297
        },
        "colab_type": "code",
        "id": "DH38vh5PsKTh",
        "outputId": "dbab675d-5bc1-4dfc-edc5-2e8a2adcc3b5"
      },
      "outputs": [
        {
          "data": {
            "text/html": [
              "<div>\n",
              "<style scoped>\n",
              "    .dataframe tbody tr th:only-of-type {\n",
              "        vertical-align: middle;\n",
              "    }\n",
              "\n",
              "    .dataframe tbody tr th {\n",
              "        vertical-align: top;\n",
              "    }\n",
              "\n",
              "    .dataframe thead th {\n",
              "        text-align: right;\n",
              "    }\n",
              "</style>\n",
              "<table border=\"1\" class=\"dataframe\">\n",
              "  <thead>\n",
              "    <tr style=\"text-align: right;\">\n",
              "      <th></th>\n",
              "      <th>ORDEN</th>\n",
              "      <th>ANO</th>\n",
              "      <th>DIA</th>\n",
              "    </tr>\n",
              "  </thead>\n",
              "  <tbody>\n",
              "    <tr>\n",
              "      <th>count</th>\n",
              "      <td>135076.000000</td>\n",
              "      <td>135076.000000</td>\n",
              "      <td>135076.000000</td>\n",
              "    </tr>\n",
              "    <tr>\n",
              "      <th>mean</th>\n",
              "      <td>67538.500000</td>\n",
              "      <td>2015.724896</td>\n",
              "      <td>15.488510</td>\n",
              "    </tr>\n",
              "    <tr>\n",
              "      <th>std</th>\n",
              "      <td>38993.226818</td>\n",
              "      <td>3.344696</td>\n",
              "      <td>8.811255</td>\n",
              "    </tr>\n",
              "    <tr>\n",
              "      <th>min</th>\n",
              "      <td>1.000000</td>\n",
              "      <td>2010.000000</td>\n",
              "      <td>1.000000</td>\n",
              "    </tr>\n",
              "    <tr>\n",
              "      <th>25%</th>\n",
              "      <td>33769.750000</td>\n",
              "      <td>2013.000000</td>\n",
              "      <td>8.000000</td>\n",
              "    </tr>\n",
              "    <tr>\n",
              "      <th>50%</th>\n",
              "      <td>67538.500000</td>\n",
              "      <td>2016.000000</td>\n",
              "      <td>15.000000</td>\n",
              "    </tr>\n",
              "    <tr>\n",
              "      <th>75%</th>\n",
              "      <td>101307.250000</td>\n",
              "      <td>2019.000000</td>\n",
              "      <td>23.000000</td>\n",
              "    </tr>\n",
              "    <tr>\n",
              "      <th>max</th>\n",
              "      <td>135076.000000</td>\n",
              "      <td>2021.000000</td>\n",
              "      <td>31.000000</td>\n",
              "    </tr>\n",
              "  </tbody>\n",
              "</table>\n",
              "</div>"
            ],
            "text/plain": [
              "               ORDEN            ANO            DIA\n",
              "count  135076.000000  135076.000000  135076.000000\n",
              "mean    67538.500000    2015.724896      15.488510\n",
              "std     38993.226818       3.344696       8.811255\n",
              "min         1.000000    2010.000000       1.000000\n",
              "25%     33769.750000    2013.000000       8.000000\n",
              "50%     67538.500000    2016.000000      15.000000\n",
              "75%    101307.250000    2019.000000      23.000000\n",
              "max    135076.000000    2021.000000      31.000000"
            ]
          },
          "execution_count": 10,
          "metadata": {},
          "output_type": "execute_result"
        }
      ],
      "source": [
        "df.describe()"
      ]
    },
    {
      "cell_type": "markdown",
      "metadata": {
        "colab_type": "text",
        "id": "Y017l8ju8t5T"
      },
      "source": [
        "Podemos mirar cuantas categorias tiene la categoria CONDUCTA : **EL NUMERO DE CONDUCTAS SON 50**\n",
        " \n",
        "\n"
      ]
    },
    {
      "cell_type": "code",
      "execution_count": 14,
      "metadata": {
        "colab": {},
        "colab_type": "code",
        "id": "h7kIhOFcsMZx"
      },
      "outputs": [],
      "source": [
        "df_n = df['CONDUCTA']\n",
        "np_df = np.array(df['CONDUCTA'].unique())\n",
        "\n",
        "np_count= np.unique(df_n,return_counts=True)\n",
        "\n"
      ]
    },
    {
      "cell_type": "code",
      "execution_count": 16,
      "metadata": {
        "colab": {
          "base_uri": "https://localhost:8080/",
          "height": 119
        },
        "colab_type": "code",
        "id": "3deFIvb5TGJ9",
        "outputId": "df4e960c-0b9c-442a-8592-6807b92796f0"
      },
      "outputs": [
        {
          "data": {
            "text/plain": [
              "array([  805,    17,   245,   119,   462,     5,   271,   367,     3,\n",
              "        1529,    15,   268,     7,    11,    12,   518,    40,  1365,\n",
              "         615,    11,   204,  8937,    15,  3708, 48452,     7,  4752,\n",
              "           1,    34,     4,    13, 21130, 24450,     2,    12,    72,\n",
              "           5,     3,     3,    68, 16519])"
            ]
          },
          "execution_count": 16,
          "metadata": {},
          "output_type": "execute_result"
        }
      ],
      "source": [
        "np_count[1]"
      ]
    },
    {
      "cell_type": "markdown",
      "metadata": {
        "colab_type": "text",
        "id": "WaEYGm_kErVC"
      },
      "source": [
        "El numero de veces que se repite la conducta"
      ]
    },
    {
      "cell_type": "code",
      "execution_count": 17,
      "metadata": {
        "colab": {
          "base_uri": "https://localhost:8080/",
          "height": 1000
        },
        "colab_type": "code",
        "id": "ZXYvz4BSEbWq",
        "outputId": "caa00f75-5f49-4841-9192-35b71166ff57"
      },
      "outputs": [
        {
          "data": {
            "text/html": [
              "<div>\n",
              "<style scoped>\n",
              "    .dataframe tbody tr th:only-of-type {\n",
              "        vertical-align: middle;\n",
              "    }\n",
              "\n",
              "    .dataframe tbody tr th {\n",
              "        vertical-align: top;\n",
              "    }\n",
              "\n",
              "    .dataframe thead th {\n",
              "        text-align: right;\n",
              "    }\n",
              "</style>\n",
              "<table border=\"1\" class=\"dataframe\">\n",
              "  <thead>\n",
              "    <tr style=\"text-align: right;\">\n",
              "      <th></th>\n",
              "      <th>conducta</th>\n",
              "      <th>contador</th>\n",
              "    </tr>\n",
              "  </thead>\n",
              "  <tbody>\n",
              "    <tr>\n",
              "      <th>0</th>\n",
              "      <td>ACCESO CARNAL ABUSIVO CON MENOR DE 14 AÑOS</td>\n",
              "      <td>805</td>\n",
              "    </tr>\n",
              "    <tr>\n",
              "      <th>1</th>\n",
              "      <td>ACCESO CARNAL ABUSIVO CON MENOR DE 14 AÑOS (CI...</td>\n",
              "      <td>17</td>\n",
              "    </tr>\n",
              "    <tr>\n",
              "      <th>2</th>\n",
              "      <td>ACCESO CARNAL O ACTO SEXUAL ABUSIVO CON INCAPA...</td>\n",
              "      <td>245</td>\n",
              "    </tr>\n",
              "    <tr>\n",
              "      <th>3</th>\n",
              "      <td>ACCESO CARNAL O ACTO SEXUAL EN PERSONA PUESTA ...</td>\n",
              "      <td>119</td>\n",
              "    </tr>\n",
              "    <tr>\n",
              "      <th>4</th>\n",
              "      <td>ACCESO CARNAL VIOLENTO</td>\n",
              "      <td>462</td>\n",
              "    </tr>\n",
              "    <tr>\n",
              "      <th>5</th>\n",
              "      <td>ACCESO CARNAL VIOLENTO (CIRCUNSTANCIAS AGRAVAC...</td>\n",
              "      <td>5</td>\n",
              "    </tr>\n",
              "    <tr>\n",
              "      <th>6</th>\n",
              "      <td>ACOSO SEXUAL</td>\n",
              "      <td>271</td>\n",
              "    </tr>\n",
              "    <tr>\n",
              "      <th>7</th>\n",
              "      <td>ACTO SEXUAL VIOLENTO</td>\n",
              "      <td>367</td>\n",
              "    </tr>\n",
              "    <tr>\n",
              "      <th>8</th>\n",
              "      <td>ACTO SEXUAL VIOLENTO (CIRCUNSTANCIAS DE AGRAVA...</td>\n",
              "      <td>3</td>\n",
              "    </tr>\n",
              "    <tr>\n",
              "      <th>9</th>\n",
              "      <td>ACTOS SEXUALES CON MENOR DE 14 AÑOS</td>\n",
              "      <td>1529</td>\n",
              "    </tr>\n",
              "    <tr>\n",
              "      <th>10</th>\n",
              "      <td>ACTOS SEXUALES CON MENOR DE 14 AÑOS (CIRCUNSTA...</td>\n",
              "      <td>15</td>\n",
              "    </tr>\n",
              "    <tr>\n",
              "      <th>11</th>\n",
              "      <td>AMENAZAS</td>\n",
              "      <td>268</td>\n",
              "    </tr>\n",
              "    <tr>\n",
              "      <th>12</th>\n",
              "      <td>CONSTREÑIMIENTO A LA PROSTITUCIÓN</td>\n",
              "      <td>7</td>\n",
              "    </tr>\n",
              "    <tr>\n",
              "      <th>13</th>\n",
              "      <td>DEMANDA DE EXPLOTACION SEXUAL COMERCIAL DE PER...</td>\n",
              "      <td>11</td>\n",
              "    </tr>\n",
              "    <tr>\n",
              "      <th>14</th>\n",
              "      <td>ESTÍMULO A LA PROSTITUCIÓN DE MENORES</td>\n",
              "      <td>12</td>\n",
              "    </tr>\n",
              "    <tr>\n",
              "      <th>15</th>\n",
              "      <td>EXTORSIÓN</td>\n",
              "      <td>518</td>\n",
              "    </tr>\n",
              "    <tr>\n",
              "      <th>16</th>\n",
              "      <td>FEMINICIDIO</td>\n",
              "      <td>40</td>\n",
              "    </tr>\n",
              "    <tr>\n",
              "      <th>17</th>\n",
              "      <td>HOMICIDIO</td>\n",
              "      <td>1365</td>\n",
              "    </tr>\n",
              "    <tr>\n",
              "      <th>18</th>\n",
              "      <td>HOMICIDIO CULPOSO ( EN ACCIDENTE DE TRÁNSITO)</td>\n",
              "      <td>615</td>\n",
              "    </tr>\n",
              "    <tr>\n",
              "      <th>19</th>\n",
              "      <td>HURTO A ABIGEATO</td>\n",
              "      <td>11</td>\n",
              "    </tr>\n",
              "    <tr>\n",
              "      <th>20</th>\n",
              "      <td>HURTO A AUTOMOTORES</td>\n",
              "      <td>204</td>\n",
              "    </tr>\n",
              "    <tr>\n",
              "      <th>21</th>\n",
              "      <td>HURTO A ENTIDADES COMERCIALES</td>\n",
              "      <td>8937</td>\n",
              "    </tr>\n",
              "    <tr>\n",
              "      <th>22</th>\n",
              "      <td>HURTO A ENTIDADES FINANCIERAS</td>\n",
              "      <td>15</td>\n",
              "    </tr>\n",
              "    <tr>\n",
              "      <th>23</th>\n",
              "      <td>HURTO A MOTOCICLETAS</td>\n",
              "      <td>3708</td>\n",
              "    </tr>\n",
              "    <tr>\n",
              "      <th>24</th>\n",
              "      <td>HURTO A PERSONAS</td>\n",
              "      <td>48452</td>\n",
              "    </tr>\n",
              "    <tr>\n",
              "      <th>25</th>\n",
              "      <td>HURTO A PIRATERÍA TERRESTRE</td>\n",
              "      <td>7</td>\n",
              "    </tr>\n",
              "    <tr>\n",
              "      <th>26</th>\n",
              "      <td>HURTO A RESIDENCIAS</td>\n",
              "      <td>4752</td>\n",
              "    </tr>\n",
              "    <tr>\n",
              "      <th>27</th>\n",
              "      <td>INCAPACIDAD PARA TRABAJAR O ENFERMEDAD</td>\n",
              "      <td>1</td>\n",
              "    </tr>\n",
              "    <tr>\n",
              "      <th>28</th>\n",
              "      <td>INDUCCIÓN A LA PROSTITUCIÓN</td>\n",
              "      <td>34</td>\n",
              "    </tr>\n",
              "    <tr>\n",
              "      <th>29</th>\n",
              "      <td>LESIONES AL FETO</td>\n",
              "      <td>4</td>\n",
              "    </tr>\n",
              "    <tr>\n",
              "      <th>30</th>\n",
              "      <td>LESIONES CULPOSAS</td>\n",
              "      <td>13</td>\n",
              "    </tr>\n",
              "    <tr>\n",
              "      <th>31</th>\n",
              "      <td>LESIONES CULPOSAS ( EN ACCIDENTE DE TRANSITO )</td>\n",
              "      <td>21130</td>\n",
              "    </tr>\n",
              "    <tr>\n",
              "      <th>32</th>\n",
              "      <td>LESIONES PERSONALES</td>\n",
              "      <td>24450</td>\n",
              "    </tr>\n",
              "    <tr>\n",
              "      <th>33</th>\n",
              "      <td>LESIONES PERSONALES ( CIRCUNSTANCIAS DE AGRAVA...</td>\n",
              "      <td>2</td>\n",
              "    </tr>\n",
              "    <tr>\n",
              "      <th>34</th>\n",
              "      <td>NO REPORTA</td>\n",
              "      <td>12</td>\n",
              "    </tr>\n",
              "    <tr>\n",
              "      <th>35</th>\n",
              "      <td>PORNOGRAFÍA CON MENORES</td>\n",
              "      <td>72</td>\n",
              "    </tr>\n",
              "    <tr>\n",
              "      <th>36</th>\n",
              "      <td>PROXENETISMO CON MENOR DE EDAD</td>\n",
              "      <td>5</td>\n",
              "    </tr>\n",
              "    <tr>\n",
              "      <th>37</th>\n",
              "      <td>SECUESTRO EXTORSIVO</td>\n",
              "      <td>3</td>\n",
              "    </tr>\n",
              "    <tr>\n",
              "      <th>38</th>\n",
              "      <td>SECUESTRO SIMPLE</td>\n",
              "      <td>3</td>\n",
              "    </tr>\n",
              "    <tr>\n",
              "      <th>39</th>\n",
              "      <td>UTILIZACIÓN O FACILITACIÓN DE MEDIOS DE COMUNI...</td>\n",
              "      <td>68</td>\n",
              "    </tr>\n",
              "    <tr>\n",
              "      <th>40</th>\n",
              "      <td>VIOLENCIA INTRAFAMILIAR</td>\n",
              "      <td>16519</td>\n",
              "    </tr>\n",
              "  </tbody>\n",
              "</table>\n",
              "</div>"
            ],
            "text/plain": [
              "                                             conducta  contador\n",
              "0          ACCESO CARNAL ABUSIVO CON MENOR DE 14 AÑOS       805\n",
              "1   ACCESO CARNAL ABUSIVO CON MENOR DE 14 AÑOS (CI...        17\n",
              "2   ACCESO CARNAL O ACTO SEXUAL ABUSIVO CON INCAPA...       245\n",
              "3   ACCESO CARNAL O ACTO SEXUAL EN PERSONA PUESTA ...       119\n",
              "4                              ACCESO CARNAL VIOLENTO       462\n",
              "5   ACCESO CARNAL VIOLENTO (CIRCUNSTANCIAS AGRAVAC...         5\n",
              "6                                        ACOSO SEXUAL       271\n",
              "7                                ACTO SEXUAL VIOLENTO       367\n",
              "8   ACTO SEXUAL VIOLENTO (CIRCUNSTANCIAS DE AGRAVA...         3\n",
              "9                 ACTOS SEXUALES CON MENOR DE 14 AÑOS      1529\n",
              "10  ACTOS SEXUALES CON MENOR DE 14 AÑOS (CIRCUNSTA...        15\n",
              "11                                           AMENAZAS       268\n",
              "12                  CONSTREÑIMIENTO A LA PROSTITUCIÓN         7\n",
              "13  DEMANDA DE EXPLOTACION SEXUAL COMERCIAL DE PER...        11\n",
              "14              ESTÍMULO A LA PROSTITUCIÓN DE MENORES        12\n",
              "15                                          EXTORSIÓN       518\n",
              "16                                        FEMINICIDIO        40\n",
              "17                                          HOMICIDIO      1365\n",
              "18      HOMICIDIO CULPOSO ( EN ACCIDENTE DE TRÁNSITO)       615\n",
              "19                                   HURTO A ABIGEATO        11\n",
              "20                                HURTO A AUTOMOTORES       204\n",
              "21                      HURTO A ENTIDADES COMERCIALES      8937\n",
              "22                      HURTO A ENTIDADES FINANCIERAS        15\n",
              "23                               HURTO A MOTOCICLETAS      3708\n",
              "24                                   HURTO A PERSONAS     48452\n",
              "25                        HURTO A PIRATERÍA TERRESTRE         7\n",
              "26                                HURTO A RESIDENCIAS      4752\n",
              "27             INCAPACIDAD PARA TRABAJAR O ENFERMEDAD         1\n",
              "28                        INDUCCIÓN A LA PROSTITUCIÓN        34\n",
              "29                                   LESIONES AL FETO         4\n",
              "30                                  LESIONES CULPOSAS        13\n",
              "31     LESIONES CULPOSAS ( EN ACCIDENTE DE TRANSITO )     21130\n",
              "32                                LESIONES PERSONALES     24450\n",
              "33  LESIONES PERSONALES ( CIRCUNSTANCIAS DE AGRAVA...         2\n",
              "34                                         NO REPORTA        12\n",
              "35                            PORNOGRAFÍA CON MENORES        72\n",
              "36                     PROXENETISMO CON MENOR DE EDAD         5\n",
              "37                                SECUESTRO EXTORSIVO         3\n",
              "38                                   SECUESTRO SIMPLE         3\n",
              "39  UTILIZACIÓN O FACILITACIÓN DE MEDIOS DE COMUNI...        68\n",
              "40                            VIOLENCIA INTRAFAMILIAR     16519"
            ]
          },
          "execution_count": 17,
          "metadata": {},
          "output_type": "execute_result"
        }
      ],
      "source": [
        "\n",
        "n_delitos = pd.DataFrame({'conducta':np_count[0],'contador':np_count[1]})\n",
        "n_delitos"
      ]
    },
    {
      "cell_type": "code",
      "execution_count": 18,
      "metadata": {
        "colab": {
          "base_uri": "https://localhost:8080/",
          "height": 588
        },
        "colab_type": "code",
        "id": "BsIN7MiCKyKc",
        "outputId": "8e010c56-216a-406a-a21c-9782e583ad9e"
      },
      "outputs": [
        {
          "data": {
            "text/plain": [
              "array([[<AxesSubplot:title={'center':'contador'}>]], dtype=object)"
            ]
          },
          "execution_count": 18,
          "metadata": {},
          "output_type": "execute_result"
        },
        {
          "data": {
            "image/png": "[encoded data removed]",
            "text/plain": [
              "<Figure size 1152x648 with 1 Axes>"
            ]
          },
          "metadata": {},
          "output_type": "display_data"
        }
      ],
      "source": [
        "n_delitos.hist()"
      ]
    },
    {
      "cell_type": "code",
      "execution_count": 19,
      "metadata": {
        "colab": {
          "base_uri": "https://localhost:8080/",
          "height": 51
        },
        "colab_type": "code",
        "id": "6TiWwW438fbK",
        "outputId": "6db7f970-df14-4a2a-fe4f-0f1b5645f937"
      },
      "outputs": [
        {
          "data": {
            "text/plain": [
              "(array(['NO REPORTA', 'OTROS', 'RURAL', 'URBANA'], dtype=object),\n",
              " array([  2189,    157,   1183, 131547]))"
            ]
          },
          "execution_count": 19,
          "metadata": {},
          "output_type": "execute_result"
        }
      ],
      "source": [
        "df_n = df['ZONA']\n",
        "np_df = np.array(df['ZONA'].unique())\n",
        "\n",
        "len(np_df)\n",
        "np_df\n",
        "np_count= np.unique(df_n,return_counts=True)\n",
        "np_count"
      ]
    },
    {
      "cell_type": "code",
      "execution_count": 20,
      "metadata": {
        "colab": {
          "base_uri": "https://localhost:8080/",
          "height": 142
        },
        "colab_type": "code",
        "id": "toFdsvPMuh5n",
        "outputId": "057663fd-4d9c-414f-c320-940984d2dbe9"
      },
      "outputs": [
        {
          "data": {
            "text/html": [
              "<div>\n",
              "<style scoped>\n",
              "    .dataframe tbody tr th:only-of-type {\n",
              "        vertical-align: middle;\n",
              "    }\n",
              "\n",
              "    .dataframe tbody tr th {\n",
              "        vertical-align: top;\n",
              "    }\n",
              "\n",
              "    .dataframe thead th {\n",
              "        text-align: right;\n",
              "    }\n",
              "</style>\n",
              "<table border=\"1\" class=\"dataframe\">\n",
              "  <thead>\n",
              "    <tr style=\"text-align: right;\">\n",
              "      <th></th>\n",
              "      <th>conducta</th>\n",
              "      <th>contador</th>\n",
              "    </tr>\n",
              "  </thead>\n",
              "  <tbody>\n",
              "    <tr>\n",
              "      <th>0</th>\n",
              "      <td>NO REPORTA</td>\n",
              "      <td>2189</td>\n",
              "    </tr>\n",
              "    <tr>\n",
              "      <th>1</th>\n",
              "      <td>OTROS</td>\n",
              "      <td>157</td>\n",
              "    </tr>\n",
              "    <tr>\n",
              "      <th>2</th>\n",
              "      <td>RURAL</td>\n",
              "      <td>1183</td>\n",
              "    </tr>\n",
              "    <tr>\n",
              "      <th>3</th>\n",
              "      <td>URBANA</td>\n",
              "      <td>131547</td>\n",
              "    </tr>\n",
              "  </tbody>\n",
              "</table>\n",
              "</div>"
            ],
            "text/plain": [
              "     conducta  contador\n",
              "0  NO REPORTA      2189\n",
              "1       OTROS       157\n",
              "2       RURAL      1183\n",
              "3      URBANA    131547"
            ]
          },
          "execution_count": 20,
          "metadata": {},
          "output_type": "execute_result"
        }
      ],
      "source": [
        "\n",
        "n_delitos = pd.DataFrame({'conducta':np_count[0],'contador':np_count[1]})\n",
        "n_delitos\n"
      ]
    },
    {
      "cell_type": "code",
      "execution_count": null,
      "metadata": {
        "colab": {},
        "colab_type": "code",
        "id": "L_wImLvc2Zer"
      },
      "outputs": [],
      "source": []
    }
  ],
  "metadata": {
    "colab": {
      "collapsed_sections": [],
      "name": "PracticaData",
      "provenance": []
    },
    "kernelspec": {
      "display_name": "Python 3",
      "name": "python3"
    },
    "language_info": {
      "codemirror_mode": {
        "name": "ipython",
        "version": 3
      },
      "file_extension": ".py",
      "mimetype": "text/x-python",
      "name": "python",
      "nbconvert_exporter": "python",
      "pygments_lexer": "ipython3",
      "version": "3.9.13"
    }
  },
  "nbformat": 4,
  "nbformat_minor": 0
}
